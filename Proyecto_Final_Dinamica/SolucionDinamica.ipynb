{
 "cells": [
  {
   "cell_type": "markdown",
   "id": "e92f8b7d",
   "metadata": {},
   "source": [
    "Creado por: Jose Javier Fernández González \n",
    "\n",
    "Parte del Primer Proyecto de Dinámica\n",
    "\n",
    "Segundo Semestre 2021\n",
    "\n",
    "Validación del Problema 12-109 del Libro de Dinámica de Hibbeler.\n",
    "\n",
    "Grupo 01 - Carnet 2020425930"
   ]
  },
  {
   "cell_type": "markdown",
   "id": "9c4ce979",
   "metadata": {},
   "source": [
    "# Planteamiento del problema\n",
    "\n",
    "![Problema 12-109](./imgs/Fig1.png)"
   ]
  },
  {
   "cell_type": "markdown",
   "id": "6beb5cc2",
   "metadata": {},
   "source": [
    "# Código"
   ]
  },
  {
   "cell_type": "markdown",
   "id": "0c810a1d",
   "metadata": {},
   "source": [
    "## Importación de Librerías Importantes"
   ]
  },
  {
   "cell_type": "code",
   "execution_count": 1,
   "id": "0d53f49d",
   "metadata": {},
   "outputs": [],
   "source": [
    "from decimal import *\n",
    "from tkinter import *\n",
    "import numpy as np\n",
    "import matplotlib.pyplot as plt\n",
    "from matplotlib.figure import Figure\n",
    "from matplotlib.backends.backend_tkagg import (FigureCanvasTkAgg, \n",
    "NavigationToolbar2Tk)\n",
    "from PIL import ImageTk,Image\n",
    "import math"
   ]
  },
  {
   "cell_type": "markdown",
   "id": "8bb4204a",
   "metadata": {},
   "source": [
    "### Configuración de Parámetros de las Librerías"
   ]
  },
  {
   "cell_type": "code",
   "execution_count": 2,
   "id": "68042115",
   "metadata": {},
   "outputs": [],
   "source": [
    "root = Tk()\n",
    "root.title(\"Solucionador en Python\")\n",
    "getcontext().prec = 5"
   ]
  },
  {
   "cell_type": "markdown",
   "id": "725f869e",
   "metadata": {},
   "source": [
    "## Funciones de procedimiento y cálculos"
   ]
  },
  {
   "cell_type": "code",
   "execution_count": 3,
   "id": "57ef5069",
   "metadata": {},
   "outputs": [],
   "source": [
    "def validateNum(num):\n",
    "    try:\n",
    "        float(num)\n",
    "        return \"✔\"\n",
    "    except:\n",
    "        return \"✖️\"\n",
    "\n",
    "\n",
    "def solve(distanciaBC = Decimal(15), graph=False):\n",
    "    #Declaración de variables y asignación de valores\n",
    "    global velocidadAngularBC\n",
    "    global velocidadAngularD\n",
    "    global distanciaD\n",
    "\n",
    "    velocidadAngularBC= Decimal(inicialBC)\n",
    "    velocidadAngularD= Decimal(inicialD)\n",
    "    \n",
    "    distanciaD = Decimal(20)\n",
    "\n",
    "\n",
    "    #Velocidad de B\n",
    "    global velocidadB\n",
    "    velocidadB = velocidadAngularBC * distanciaBC\n",
    "\n",
    "    #Velocidad de D\n",
    "    global velocidadD\n",
    "    velocidadD = velocidadAngularD * distanciaD\n",
    "\n",
    "    #Velocidad Angular A\n",
    "    global velocidadAngularA\n",
    "    velocidadAngularA = (velocidadD-velocidadB)/(distanciaD-distanciaBC)\n",
    "    if graph==False:\n",
    "        #Presentar los Resultados\n",
    "        return \"    Velocidad tangencial de B: \"+str(velocidadB)+\" rad/s i+ \\n    Velocidad tangencial de D: \"+str(velocidadD)+\" rad/s i+ \\n    Velocidad angular de A: \"+str(velocidadAngularA)+\" rad/s k+ \\n\"\n",
    "    else:\n",
    "        return velocidadAngularA\n",
    "\n",
    "\n",
    "\n",
    "def resultados():\n",
    "    resultados = solve()\n",
    "    Label(root, text=resultados, justify=\"left\",bg='white', font=instruText, fg=col3).grid(row=9, columnspan=3,rowspan=2, sticky=\"nw\")\n",
    "    \n",
    "\n",
    "\n",
    "#Graficar La velocidad alcanzada con respecto al radio del engranaje A\n",
    "def graf():\n",
    "    radios=[]\n",
    "    velocidades=[]\n",
    "    i=1\n",
    "    while i<=distanciaD:\n",
    "        radios.append(i)\n",
    "        i+=1\n",
    "    for j in radios:\n",
    "        distanciaBC = Decimal(20-j)\n",
    "        velA=solve(distanciaBC, True)\n",
    "        velocidades.append(velA)\n",
    "    \n",
    "    \n",
    "    fig = Figure(figsize = (6, 5),dpi = 80)\n",
    "    plt=fig.add_subplot(111, xlabel=\"Radio del engranaje A [in]\", ylabel=\"Velocidad Angular del Engranaje [rad/s]\", title=\"Velocidad Angular de A dependiendo de su Radio\")\n",
    "    plt.plot(radios,velocidades)\n",
    "    canvas = FigureCanvasTkAgg(fig, master = root)  \n",
    "    canvas.draw()\n",
    "    canvas.get_tk_widget().grid(row=8,column=4, rowspan=5)\n",
    "\n"
   ]
  },
  {
   "cell_type": "markdown",
   "id": "8c6cd8d3",
   "metadata": {},
   "source": [
    "## Configuración de Interfaz Gráfica"
   ]
  },
  {
   "cell_type": "markdown",
   "id": "ed989536",
   "metadata": {},
   "source": [
    "### Funciones de los Botones"
   ]
  },
  {
   "cell_type": "code",
   "execution_count": 4,
   "id": "f646169a",
   "metadata": {},
   "outputs": [],
   "source": [
    "def submitBC():\n",
    "    global inicialBC\n",
    "    inicialBC = entryBC.get()\n",
    "    Label(root, text= validateNum(inicialBC), wraplength=50, bg='white', font=tituloText, fg=col2).grid(row=3, column=2)\n",
    "    valorInicial = Label(root, text=\"Valor ingresado: \"+ inicialBC +\" rad/s k+\",bg='white',fg=col3,font=avisoText)\n",
    "    valorInicial.grid(row=4, column=0)\n",
    "\n",
    "def submitD():\n",
    "    global inicialD\n",
    "    inicialD = entryD.get()\n",
    "    Label(root, text= validateNum(inicialD), wraplength=50, bg='white', font=tituloText, fg=col2).grid(row=6, column=2)\n",
    "    valorInicial = Label(root, text=\"Valor ingresado: \"+ inicialD +\" rad/s k+\",bg='white',fg=col3,font=avisoText)\n",
    "    valorInicial.grid(row=7, column=0)\n",
    "\n"
   ]
  },
  {
   "cell_type": "markdown",
   "id": "d059376c",
   "metadata": {},
   "source": [
    "### Configuración Gráfica"
   ]
  },
  {
   "cell_type": "code",
   "execution_count": 5,
   "id": "21e4adf6",
   "metadata": {},
   "outputs": [],
   "source": [
    "#Espacios Vacios\n",
    "Label(root, text=\"\", height=2, width=2, bg='white').grid(row=0, column=2)\n",
    "Label(root, text=\"\", height=2, width=2, bg='white').grid(row=100, column=100)\n",
    "Label(root, text=\"\", height=2,width=2, bg='white').grid(row=4, column=0)\n",
    "Label(root, text=\"\", height=2, bg='white').grid(row=7, column=0)\n",
    "Label(root, text=\"\", height=15 , bg='white').grid(row=12, column=0)\n",
    "\n",
    "#Estética\n",
    "##Colores\n",
    "col1=\"#3C4F76\"\n",
    "col2=\"#AEC5EB\"\n",
    "col3=\"#982649\"\n",
    "\n",
    "root.configure(bg='white')\n",
    "tituloText = (\"Helvetica\",18,\"bold\")\n",
    "subtituloText = (\"Helvetica\",16,\"bold\")\n",
    "instruText = (\"Helvetica\",12)\n",
    "avisoText = (\"Helvetica\",11,\"bold\")\n",
    "botonText = (\"Helvetica\",11,\"bold\")\n",
    "\n",
    "\n",
    "#Título\n",
    "titulo = Label(root, text=\"Validación del Problema 16-62 \\n\\n Jose Javier Fernández González\\n 2020425930 \\n Dinámica - Proyecto 2 \\n ITCR\\n\\n\", height=8, bg='white',font=tituloText, fg=col1)\n",
    "titulo.grid(row=1, columnspan=2)\n",
    "\n",
    "\n",
    "\n",
    "#Barra BC\n",
    "Label(root, text=\"Inserte la Velocidad Angular de BC en k :\", wraplength=150, width= 20, bg='white',font=instruText).grid(row=2, column=0)\n",
    "\n",
    "entryBC = Entry(root, width=15)\n",
    "entryBC.grid(row=3, column=0)\n",
    "\n",
    "buttonBC = Button(root, width=10, text=\"Ingresar.\", bg='white', font=botonText , activebackground=col2 , command=submitBC)\n",
    "buttonBC.grid(row=3, column=1)\n",
    "\n",
    "\n",
    "#Engranaje D\n",
    "Label(root, text=\"\\nInserte la Velocidad Angular del Engranaje D en k: \", wraplength=150, width= 20, bg='white',font=instruText).grid(row=5, column=0)\n",
    "\n",
    "entryD = Entry(root, width=15)\n",
    "entryD.grid(row=6, column=0)\n",
    "\n",
    "buttonD = Button(root, width=10, text=\"Ingresar.\", bg='white', font=botonText , activebackground=col2 , command=submitD)\n",
    "buttonD.grid(row=6, column=1)\n",
    "\n",
    "\n",
    "#Resultados\n",
    "Label(root, text=\"  Resultados...\", height=5, justify=\"left\", bg='white', font=subtituloText).grid(row=8, columnspan=2, sticky=\"nw\")\n",
    "\n",
    "#Botón Solución\n",
    "buttonS = Button(root, width=10,height=2, text=\"Solucionar\", bg='white',activebackground=col2, font=botonText, command=resultados)\n",
    "buttonS.grid(row=9, column=2)\n",
    "\n",
    "#Botón Graficar\n",
    "buttonG = Button(root, width=10,height=2, text=\"Graficar\", bg='white',activebackground=col2, font=botonText, command=graf)\n",
    "buttonG.grid(row=11, column=2)\n",
    "\n",
    "#Ilustración del Problema\n",
    "problema = ImageTk.PhotoImage(Image.open(\"./imgs/Fig1-Program.png\"))\n",
    "Label(root,text=\"           \",bg='white').grid(row=0, column=3)\n",
    "Label(image=problema, bg='white').grid(row=1, column=4, rowspan=7)\n"
   ]
  },
  {
   "cell_type": "markdown",
   "id": "476d2908",
   "metadata": {},
   "source": [
    "#### Activar GUI"
   ]
  },
  {
   "cell_type": "code",
   "execution_count": 6,
   "id": "cff268f0",
   "metadata": {},
   "outputs": [],
   "source": [
    "root.mainloop()"
   ]
  },
  {
   "cell_type": "code",
   "execution_count": null,
   "id": "c9250d23",
   "metadata": {},
   "outputs": [],
   "source": []
  }
 ],
 "metadata": {
  "kernelspec": {
   "display_name": "Python 3 (ipykernel)",
   "language": "python",
   "name": "python3"
  },
  "language_info": {
   "codemirror_mode": {
    "name": "ipython",
    "version": 3
   },
   "file_extension": ".py",
   "mimetype": "text/x-python",
   "name": "python",
   "nbconvert_exporter": "python",
   "pygments_lexer": "ipython3",
   "version": "3.9.7"
  }
 },
 "nbformat": 4,
 "nbformat_minor": 5
}
